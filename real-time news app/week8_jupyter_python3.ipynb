{
 "cells": [
  {
   "cell_type": "markdown",
   "metadata": {},
   "source": [
    "# Week 8 - Tensorflow and CNN for Topic Classification\n",
    "## Jupyter\n",
    "The Jupyter Notebook is an open-source web application that allows you to create and share documents that contain live code, equations, visualizations and explanatory text. Uses include: data cleaning and transformation, numerical simulation, statistical modeling, machine learning and much more.\n",
    "\n",
    "## Docker\n",
    "It is much more convenient to use a docker image containing `Tensorflow` and `Jupyter`, as well as other common `python3` packages. Luckily, there is a docker image integrating them together:\n",
    "\n",
    "https://github.com/jupyter/docker-stacks/tree/master/tensorflow-notebook\n",
    "\n",
    "**Run**\n",
    "``` bash\n",
    "docker run -it --rm -p 8888:8888 jupyter/tensorflow-notebook\n",
    "\n",
    "```\n",
    "\n",
    "Go to localhost:8888 to start.\n"
   ]
  },
  {
   "cell_type": "markdown",
   "metadata": {},
   "source": [
    "## Data\n",
    "### Data Format\n",
    "We will use 500 news with labeled topic to train our model. The format of the data is \n",
    "```\n",
    "[#class_number],[news_title],[news_description],[news_source]\n",
    "```\n",
    "\n",
    "Two example:\n",
    "\n",
    "```\n",
    "3,Trump: Netanyahu should 'hold back' on settlements,\"President Donald Trump told Israeli Prime Minister Benjamin Netanyahu Wednesday that the US is going to push for a peace deal with the Palestinians and asked Israel \"\"to hold back\"\" on settlement construction.\",cnn\n",
    "\n",
    "3,\"Trump: UN treats Israel 'very, very unfairly' - CNN Video\",President Donald Trump and Israeli Prime Minister Benjamin Netanyahu hold a joint press conference at the White House.,cnn\n",
    "```\n",
    "\n",
    "The class is one of total 8 classes:\n",
    "```\n",
    "  1: \"World\",\n",
    "  2: \"US\",\n",
    "  3: \"Business\",\n",
    "  4: \"Technology\",\n",
    "  5: \"Entertainment\",\n",
    "  6: \"Sports\",\n",
    "  7: \"Health\",\n",
    "  8: \"Crime\"\n",
    "```\n",
    "\n",
    "Pandas Dataframe is a useful data structure for data science. Let's look at few of them in pandas dataframe.\n"
   ]
  },
  {
   "cell_type": "code",
   "execution_count": 1,
   "metadata": {},
   "outputs": [
    {
     "name": "stdout",
     "output_type": "stream",
     "text": [
      "0                          cnn\n",
      "1                          cnn\n",
      "2                          cnn\n",
      "3                          cnn\n",
      "4                          cnn\n",
      "5                          cnn\n",
      "6                          cnn\n",
      "7                          cnn\n",
      "8                          cnn\n",
      "9                          cnn\n",
      "10                         cnn\n",
      "11                         cnn\n",
      "12                         cnn\n",
      "13                         cnn\n",
      "14                         cnn\n",
      "15                         cnn\n",
      "16                         cnn\n",
      "17                         cnn\n",
      "18                         cnn\n",
      "19                         cnn\n",
      "20                         cnn\n",
      "21                         cnn\n",
      "22                         cnn\n",
      "23                         cnn\n",
      "24                         cnn\n",
      "25                         cnn\n",
      "26                         cnn\n",
      "27                         cnn\n",
      "28                         cnn\n",
      "29                         cnn\n",
      "                ...           \n",
      "515                 techcrunch\n",
      "516                 techcrunch\n",
      "517                 techcrunch\n",
      "518                 techcrunch\n",
      "519                 techcrunch\n",
      "520         the-new-york-times\n",
      "521         the-new-york-times\n",
      "522         the-new-york-times\n",
      "523         the-new-york-times\n",
      "524         the-new-york-times\n",
      "525         the-new-york-times\n",
      "526         the-new-york-times\n",
      "527    the-wall-street-journal\n",
      "528    the-wall-street-journal\n",
      "529    the-wall-street-journal\n",
      "530    the-wall-street-journal\n",
      "531    the-wall-street-journal\n",
      "532    the-wall-street-journal\n",
      "533    the-wall-street-journal\n",
      "534    the-wall-street-journal\n",
      "535    the-wall-street-journal\n",
      "536    the-wall-street-journal\n",
      "537        the-washington-post\n",
      "538        the-washington-post\n",
      "539        the-washington-post\n",
      "540        the-washington-post\n",
      "541        the-washington-post\n",
      "542        the-washington-post\n",
      "543        the-washington-post\n",
      "544        the-washington-post\n",
      "Name: 3, dtype: object\n"
     ]
    }
   ],
   "source": [
    "import pandas as pd\n",
    "\n",
    "DATA_SET_FILE = './labeled_news.csv'\n",
    "\n",
    "df = pd.read_csv(DATA_SET_FILE, header=None)\n",
    "\n",
    "print(df[3])"
   ]
  },
  {
   "cell_type": "markdown",
   "metadata": {},
   "source": [
    "### Statistics\n",
    "Let's first take a look at our data from a statistics perspective.\n",
    "\n",
    "> We can use pandas to do a quick data analysis: http://machinelearningmastery.com/quick-and-dirty-data-analysis-with-pandas/"
   ]
  },
  {
   "cell_type": "code",
   "execution_count": 2,
   "metadata": {},
   "outputs": [
    {
     "name": "stdout",
     "output_type": "stream",
     "text": [
      "class description\n",
      "count    545.000000\n",
      "mean       3.341284\n",
      "std        2.090121\n",
      "min        1.000000\n",
      "25%        2.000000\n",
      "50%        2.000000\n",
      "75%        5.000000\n",
      "max        8.000000\n",
      "Name: 0, dtype: float64\n",
      "\n",
      "\n",
      "=====================\n",
      "\n",
      "\n",
      "source description\n",
      "count     545\n",
      "unique     13\n",
      "top       cnn\n",
      "freq      132\n",
      "Name: 3, dtype: object\n"
     ]
    }
   ],
   "source": [
    "import pandas as pd\n",
    "\n",
    "DATA_SET_FILE = './labeled_news.csv'\n",
    "\n",
    "df = pd.read_csv(DATA_SET_FILE, header=None)\n",
    "\n",
    "\n",
    "print(\"class description\")\n",
    "print(df[0].describe())\n",
    "\n",
    "print(\"\"\"\n",
    "\n",
    "=====================\n",
    "\n",
    "\"\"\")\n",
    "\n",
    "print(\"source description\")\n",
    "print(df[3].describe())\n"
   ]
  },
  {
   "cell_type": "markdown",
   "metadata": {},
   "source": [
    "**Class Distribution**"
   ]
  },
  {
   "cell_type": "code",
   "execution_count": 4,
   "metadata": {},
   "outputs": [
    {
     "data": {
      "text/plain": [
       "<matplotlib.axes._subplots.AxesSubplot at 0x7fe8127115c0>"
      ]
     },
     "execution_count": 4,
     "metadata": {},
     "output_type": "execute_result"
    },
    {
     "data": {
      "image/png": "[encoded data removed]",
      "text/plain": [
       "<matplotlib.figure.Figure at 0x7fe812690b38>"
      ]
     },
     "metadata": {},
     "output_type": "display_data"
    }
   ],
   "source": [
    "import matplotlib.pyplot as plt\n",
    "\n",
    "plt.style.use= 'default'\n",
    "\n",
    "df[0].value_counts().plot(kind=\"bar\")\n"
   ]
  },
  {
   "cell_type": "markdown",
   "metadata": {},
   "source": [
    "**Source Distribution**"
   ]
  },
  {
   "cell_type": "code",
   "execution_count": 5,
   "metadata": {},
   "outputs": [
    {
     "data": {
      "text/plain": [
       "<matplotlib.axes._subplots.AxesSubplot at 0x7fe80ed85c50>"
      ]
     },
     "execution_count": 5,
     "metadata": {},
     "output_type": "execute_result"
    },
    {
     "data": {
      "image/png": "[encoded data removed]",
      "text/plain": [
       "<matplotlib.figure.Figure at 0x7fe812698160>"
      ]
     },
     "metadata": {},
     "output_type": "display_data"
    }
   ],
   "source": [
    "df[3].value_counts().plot(kind=\"bar\")"
   ]
  },
  {
   "cell_type": "markdown",
   "metadata": {},
   "source": [
    "## Vocabulary Embedding\n",
    "Tensorflow cannot handle String directly. Therefore, we need to convert String into vectors. This is called embedding.\n",
    "\n",
    "One example:\n",
    "```\n",
    "    Sentence 1: \"I like apple\"\n",
    "    Sentence 2: \"I like banana\"\n",
    "    Sentence 3: \"I eat apple\"\n",
    "```\n",
    "\n",
    "We scan all 3 sentences then we found there are 5 unique words: \n",
    "```\n",
    "    ['I', 'like', 'eat', 'apple', 'banana']\n",
    "```\n",
    "Now we can use number to represent each of them:\n",
    "```\n",
    "    [0, 1, 2, 3, 4]\n",
    "```\n",
    "So, the three sentences can be encoded into:\n",
    "```\n",
    "    Sentence 1: [0, 1, 3]\n",
    "    Sentence 2: [0, 1, 4]\n",
    "    Sentence 3: [0, 2, 3]\n",
    "```\n",
    "\n",
    "### VocabularyProcessor\n",
    "Tensorflow provides a easy-to-use tool to do embedding.\n"
   ]
  },
  {
   "cell_type": "code",
   "execution_count": 6,
   "metadata": {},
   "outputs": [
    {
     "name": "stdout",
     "output_type": "stream",
     "text": [
      "[[1 2 3 0 0]\n",
      " [1 2 4 0 0]\n",
      " [1 5 3 0 0]]\n",
      "Total unique words: 6\n",
      "\n",
      "[[0 0 0 0 0]\n",
      " [1 0 0 0 0]\n",
      " [1 2 4 0 0]\n",
      " [1 5 3 0 0]]\n"
     ]
    }
   ],
   "source": [
    "import numpy as np\n",
    "import tensorflow as tf\n",
    "\n",
    "MAX_DOCUMENT_LENGTH = 5\n",
    "\n",
    "vocab_processor = tf.contrib.learn.preprocessing.VocabularyProcessor(MAX_DOCUMENT_LENGTH)\n",
    "\n",
    "# fit and transform\n",
    "sentences = [\n",
    "    \"I like apple\",\n",
    "    \"I like banana\",\n",
    "    \"I eat apple\"\n",
    "]\n",
    "\n",
    "embedded_sentences = np.array(list(vocab_processor.fit_transform(sentences)))\n",
    "print(embedded_sentences)\n",
    "\n",
    "print('Total unique words: %d' % len(vocab_processor.vocabulary_))\n",
    "\n",
    "print(\"\")\n",
    "# just fit: unseen words will be interpreted as 0\n",
    "new_sentences = [\n",
    "    \"This is a brand new sentence which we never seen before and is very long\",\n",
    "    \"I hate doing homework!\",\n",
    "    \"I like banana\",\n",
    "    \"I eat apple\"\n",
    "]\n",
    "\n",
    "new_embedded_sentences = np.array(list(vocab_processor.transform(new_sentences)))\n",
    "print(new_embedded_sentences)\n"
   ]
  },
  {
   "cell_type": "markdown",
   "metadata": {},
   "source": [
    "### One-hot Embedding\n",
    "We have converted the string into an integer vector. But that is not good enough. We need to convert a word into one-hot vector:\n",
    "```\n",
    "Assume we only have 10 unique words.\n",
    "\n",
    "    0 -> [1, 0, 0, 0, 0, 0, 0, 0, 0, 0]\n",
    "    1 -> [0, 1, 0, 0, 0, 0, 0, 0, 0, 0]\n",
    "    2 -> [0, 0, 1, 0, 0, 0, 0, 0, 0, 0]\n",
    "    3 -> [0, 0, 0, 1, 0, 0, 0, 0, 0, 0]\n",
    "    4 -> [0, 0, 0, 0, 1, 0, 0, 0, 0, 0]\n",
    "    5 -> [0, 0, 0, 0, 0, 1, 0, 0, 0, 0]\n",
    "    6 -> [0, 0, 0, 0, 0, 0, 1, 0, 0, 0]\n",
    "    7 -> [0, 0, 0, 0, 0, 0, 0, 1, 0, 0]\n",
    "    8 -> [0, 0, 0, 0, 0, 0, 0, 0, 1, 0]\n",
    "    9 -> [0, 0, 0, 0, 0, 0, 0, 0, 0, 1]\n",
    "```\n",
    "\n",
    "Thus, one setence is converted into a matrix:\n",
    "\n",
    "```\n",
    "Assume there are only 5 unique words:\n",
    "\n",
    "    \"I like apple\" \n",
    "-> \n",
    "    [1 2 3 0 0] \n",
    "->\n",
    "    [\n",
    "        [0, 1, 0, 0, 0],  => I\n",
    "        [0, 0, 1, 0, 0],  => like\n",
    "        [0, 0, 0, 1, 0],  => apple\n",
    "        [1, 0, 0, 0, 0],  => padding\n",
    "        [1, 0, 0, 0, 0]   => padding\n",
    "    ]\n",
    "```\n",
    "\n",
    "#### Tensorflow embed_sequence\n",
    "Tensorflow provides tf.contrib.layers.embed_sequence which can help use with one-hot embedding. \n",
    "\n",
    "In real world, we don't use native [0, 1] way to label a word, but use a real number."
   ]
  },
  {
   "cell_type": "code",
   "execution_count": 7,
   "metadata": {},
   "outputs": [
    {
     "name": "stdout",
     "output_type": "stream",
     "text": [
      "[[[ 0.53095782  0.78861046  0.7448107 ]\n",
      "  [-0.4742575   0.03270733 -0.19072515]\n",
      "  [-0.03061503 -0.28348851  0.06238562]\n",
      "  [ 0.02585405 -0.13259304  0.3821063 ]\n",
      "  [ 0.02585405 -0.13259304  0.3821063 ]]]\n"
     ]
    }
   ],
   "source": [
    "import tensorflow as tf\n",
    "\n",
    "vocab_size = 6\n",
    "embed_dim =  3\n",
    "\n",
    "sentences = [\n",
    "    [1, 2, 3, 0, 0]\n",
    "]\n",
    "embedded_setences = tf.contrib.layers.embed_sequence(sentences, vocab_size, embed_dim)\n",
    "\n",
    "with tf.Session() as sess:\n",
    "    sess.run(tf.global_variables_initializer())\n",
    "    result = sess.run(embedded_setences)\n",
    "    print(result)\n"
   ]
  },
  {
   "cell_type": "markdown",
   "metadata": {},
   "source": [
    "## Convolutional Neural Networks (CNNs)\n",
    "We cannot dive deep into what is convolution here. \n",
    "\n",
    "But here is a great article about CNNs for NLP:\n",
    "http://www.wildml.com/2015/11/understanding-convolutional-neural-networks-for-nlp/\n",
    "\n",
    "### Convolution\n",
    "![image](http://deeplearning.stanford.edu/wiki/images/6/6c/Convolution_schematic.gif)\n",
    "\n",
    "### Pooling\n",
    "![image](http://d3kbpzbmcynnmx.cloudfront.net/wp-content/uploads/2015/11/Screen-Shot-2015-11-05-at-2.18.38-PM.png)\n",
    "\n",
    "## Put Eveyrthing Together"
   ]
  },
  {
   "cell_type": "code",
   "execution_count": 9,
   "metadata": {},
   "outputs": [
    {
     "name": "stdout",
     "output_type": "stream",
     "text": [
      "Total words: 2327\n",
      "INFO:tensorflow:Using default config.\n",
      "WARNING:tensorflow:Using temporary folder as model directory: /tmp/tmpbgzcxabc\n",
      "INFO:tensorflow:Using config: {'_task_type': None, '_task_id': 0, '_cluster_spec': <tensorflow.python.training.server_lib.ClusterSpec object at 0x7fe7e15028d0>, '_master': '', '_num_ps_replicas': 0, '_num_worker_replicas': 0, '_environment': 'local', '_is_chief': True, '_evaluation_master': '', '_tf_config': gpu_options {\n",
      "  per_process_gpu_memory_fraction: 1.0\n",
      "}\n",
      ", '_tf_random_seed': None, '_save_summary_steps': 100, '_save_checkpoints_secs': 600, '_log_step_count_steps': 100, '_session_config': None, '_save_checkpoints_steps': None, '_keep_checkpoint_max': 5, '_keep_checkpoint_every_n_hours': 10000, '_model_dir': '/tmp/tmpbgzcxabc'}\n",
      "WARNING:tensorflow:From <ipython-input-9-828b3bc4a87a>:115: calling BaseEstimator.fit (from tensorflow.contrib.learn.python.learn.estimators.estimator) with x is deprecated and will be removed after 2016-12-01.\n",
      "Instructions for updating:\n",
      "Estimator is decoupled from Scikit Learn interface by moving into\n",
      "separate class SKCompat. Arguments x, y and batch_size are only\n",
      "available in the SKCompat class, Estimator will only accept input_fn.\n",
      "Example conversion:\n",
      "  est = Estimator(...) -> est = SKCompat(Estimator(...))\n",
      "WARNING:tensorflow:From <ipython-input-9-828b3bc4a87a>:115: calling BaseEstimator.fit (from tensorflow.contrib.learn.python.learn.estimators.estimator) with y is deprecated and will be removed after 2016-12-01.\n",
      "Instructions for updating:\n",
      "Estimator is decoupled from Scikit Learn interface by moving into\n",
      "separate class SKCompat. Arguments x, y and batch_size are only\n",
      "available in the SKCompat class, Estimator will only accept input_fn.\n",
      "Example conversion:\n",
      "  est = Estimator(...) -> est = SKCompat(Estimator(...))\n"
     ]
    },
    {
     "name": "stderr",
     "output_type": "stream",
     "text": [
      "/opt/conda/lib/python3.6/site-packages/tensorflow/python/util/deprecation.py:260: FutureWarning: comparison to `None` will result in an elementwise object comparison in the future.\n",
      "  equality = a == b\n"
     ]
    },
    {
     "name": "stdout",
     "output_type": "stream",
     "text": [
      "WARNING:tensorflow:From <ipython-input-9-828b3bc4a87a>:70: softmax_cross_entropy (from tensorflow.contrib.losses.python.losses.loss_ops) is deprecated and will be removed after 2016-12-30.\n",
      "Instructions for updating:\n",
      "Use tf.losses.softmax_cross_entropy instead. Note that the order of the logits and labels arguments has been changed.\n",
      "WARNING:tensorflow:From /opt/conda/lib/python3.6/site-packages/tensorflow/contrib/losses/python/losses/loss_ops.py:398: compute_weighted_loss (from tensorflow.contrib.losses.python.losses.loss_ops) is deprecated and will be removed after 2016-12-30.\n",
      "Instructions for updating:\n",
      "Use tf.losses.compute_weighted_loss instead.\n",
      "WARNING:tensorflow:From /opt/conda/lib/python3.6/site-packages/tensorflow/contrib/losses/python/losses/loss_ops.py:151: add_arg_scope.<locals>.func_with_args (from tensorflow.contrib.framework.python.ops.arg_scope) is deprecated and will be removed after 2016-12-30.\n",
      "Instructions for updating:\n",
      "Use tf.losses.add_loss instead.\n",
      "INFO:tensorflow:Create CheckpointSaverHook.\n",
      "INFO:tensorflow:Saving checkpoints for 1 into /tmp/tmpbgzcxabc/model.ckpt.\n",
      "INFO:tensorflow:loss = 2.00999, step = 1\n",
      "INFO:tensorflow:global_step/sec: 0.765706\n",
      "INFO:tensorflow:loss = 5.00559, step = 101 (130.600 sec)\n",
      "INFO:tensorflow:Saving checkpoints for 200 into /tmp/tmpbgzcxabc/model.ckpt.\n",
      "INFO:tensorflow:Loss for final step: 826.042.\n",
      "WARNING:tensorflow:From <ipython-input-9-828b3bc4a87a>:119: calling BaseEstimator.predict (from tensorflow.contrib.learn.python.learn.estimators.estimator) with x is deprecated and will be removed after 2016-12-01.\n",
      "Instructions for updating:\n",
      "Estimator is decoupled from Scikit Learn interface by moving into\n",
      "separate class SKCompat. Arguments x, y and batch_size are only\n",
      "available in the SKCompat class, Estimator will only accept input_fn.\n",
      "Example conversion:\n",
      "  est = Estimator(...) -> est = SKCompat(Estimator(...))\n",
      "WARNING:tensorflow:From <ipython-input-9-828b3bc4a87a>:70: softmax_cross_entropy (from tensorflow.contrib.losses.python.losses.loss_ops) is deprecated and will be removed after 2016-12-30.\n",
      "Instructions for updating:\n",
      "Use tf.losses.softmax_cross_entropy instead. Note that the order of the logits and labels arguments has been changed.\n",
      "WARNING:tensorflow:From /opt/conda/lib/python3.6/site-packages/tensorflow/contrib/losses/python/losses/loss_ops.py:398: compute_weighted_loss (from tensorflow.contrib.losses.python.losses.loss_ops) is deprecated and will be removed after 2016-12-30.\n",
      "Instructions for updating:\n",
      "Use tf.losses.compute_weighted_loss instead.\n",
      "WARNING:tensorflow:From /opt/conda/lib/python3.6/site-packages/tensorflow/contrib/losses/python/losses/loss_ops.py:151: add_arg_scope.<locals>.func_with_args (from tensorflow.contrib.framework.python.ops.arg_scope) is deprecated and will be removed after 2016-12-30.\n",
      "Instructions for updating:\n",
      "Use tf.losses.add_loss instead.\n",
      "INFO:tensorflow:Restoring parameters from /tmp/tmpbgzcxabc/model.ckpt-200\n",
      "[6, 1, 6, 6, 6, 4, 4, 4, 6, 6, 6, 6, 6, 6, 6, 6, 6, 1, 4, 6, 6, 6, 6, 6, 4, 1, 6, 1, 6, 1, 6, 1, 6, 6, 4, 6, 1, 6, 4, 4, 6, 6, 6, 6, 6, 1, 4, 6, 6, 6, 6, 6, 4, 6, 4, 4, 4, 4, 4, 4, 4, 6, 6, 4, 4, 4, 6, 6, 1, 6, 1, 6, 6, 6, 6, 4, 6, 6, 1, 6, 4, 4, 6, 6, 6, 6, 4, 6, 6, 6, 1, 4, 1, 6, 6]\n",
      "Accuracy: 0.210526\n"
     ]
    },
    {
     "ename": "SystemExit",
     "evalue": "",
     "output_type": "error",
     "traceback": [
      "An exception has occurred, use %tb to see the full traceback.\n",
      "\u001b[0;31mSystemExit\u001b[0m\n"
     ]
    },
    {
     "name": "stderr",
     "output_type": "stream",
     "text": [
      "/opt/conda/lib/python3.6/site-packages/IPython/core/interactiveshell.py:2918: UserWarning: To exit: use 'exit', 'quit', or Ctrl-D.\n",
      "  warn(\"To exit: use 'exit', 'quit', or Ctrl-D.\", stacklevel=1)\n"
     ]
    }
   ],
   "source": [
    "# -*- coding: utf-8 -*-\n",
    "\n",
    "import numpy as np\n",
    "import os\n",
    "import pandas as pd\n",
    "import pickle\n",
    "import shutil\n",
    "import tensorflow as tf\n",
    "\n",
    "\n",
    "from sklearn import metrics\n",
    "\n",
    "learn = tf.contrib.learn\n",
    "\n",
    "DATA_SET_FILE = './labeled_news.csv'\n",
    "\n",
    "MAX_DOCUMENT_LENGTH = 500\n",
    "N_CLASSES = 8\n",
    "\n",
    "\n",
    "EMBEDDING_SIZE = 100\n",
    "N_FILTERS = 10\n",
    "WINDOW_SIZE = 10\n",
    "FILTER_SHAPE1 = [WINDOW_SIZE, EMBEDDING_SIZE]\n",
    "FILTER_SHAPE2 = [WINDOW_SIZE, N_FILTERS]\n",
    "POOLING_WINDOW = 4\n",
    "POOLING_STRIDE = 2\n",
    "\n",
    "LEARNING_RATE = 0.01\n",
    "STEPS = 200\n",
    "\n",
    "def generate_cnn_model(n_classes, n_words):\n",
    "    \"\"\"2 layer CNN to predict from sequence of words to a class.\"\"\"\n",
    "    def cnn_model(features, target):\n",
    "        # Convert indexes of words into embeddings.\n",
    "        # This creates embeddings matrix of [n_words, EMBEDDING_SIZE] and then\n",
    "        # maps word indexes of the sequence into [batch_size, sequence_length,\n",
    "        # EMBEDDING_SIZE].\n",
    "\n",
    "        target = tf.one_hot(target, n_classes, 1, 0)\n",
    "        word_vectors = tf.contrib.layers.embed_sequence(\n",
    "            features, vocab_size=n_words, embed_dim=EMBEDDING_SIZE, scope='words')\n",
    "\n",
    "        word_vectors = tf.expand_dims(word_vectors, 3)\n",
    "        \n",
    "        with tf.variable_scope('CNN_layer1'):\n",
    "            # Apply Convolution filtering on input sequence.\n",
    "            conv1 = tf.contrib.layers.convolution2d(\n",
    "                word_vectors, N_FILTERS, FILTER_SHAPE1, padding='VALID')\n",
    "            # Add a RELU for non linearity.\n",
    "            conv1 = tf.nn.relu(conv1)\n",
    "            # Max pooling across output of Convolution+Relu.\n",
    "            pool1 = tf.nn.max_pool(\n",
    "                conv1,\n",
    "                ksize=[1, POOLING_WINDOW, 1, 1],\n",
    "                strides=[1, POOLING_STRIDE, 1, 1],\n",
    "                padding='SAME')\n",
    "            # Transpose matrix so that n_filters from convolution becomes width.\n",
    "            pool1 = tf.transpose(pool1, [0, 1, 3, 2])\n",
    "      \n",
    "        with tf.variable_scope('CNN_layer2'):\n",
    "            # Second level of convolution filtering.\n",
    "            conv2 = tf.contrib.layers.convolution2d(\n",
    "                pool1, N_FILTERS, FILTER_SHAPE2, padding='VALID')\n",
    "            # Max across each filter to get useful features for classification.\n",
    "            pool2 = tf.squeeze(tf.reduce_max(conv2, 1), squeeze_dims=[1])\n",
    "\n",
    "        # Apply regular WX + B and classification.\n",
    "        logits = tf.contrib.layers.fully_connected(pool2, n_classes, activation_fn=None)\n",
    "        loss = tf.contrib.losses.softmax_cross_entropy(logits, target)\n",
    "\n",
    "        train_op = tf.contrib.layers.optimize_loss(\n",
    "          loss,\n",
    "          tf.contrib.framework.get_global_step(),\n",
    "          optimizer='Adam',\n",
    "          learning_rate=LEARNING_RATE)\n",
    "\n",
    "        return ({\n",
    "          'class': tf.argmax(logits, 1),\n",
    "          'prob': tf.nn.softmax(logits)\n",
    "        }, loss, train_op)\n",
    "\n",
    "    return cnn_model\n",
    "\n",
    "\n",
    "def main(unused_argv):\n",
    "    # Prepare training and testing data\n",
    "    df = pd.read_csv(DATA_SET_FILE, header=None)\n",
    "\n",
    "    # Random shuffle\n",
    "    df.sample(frac=1)\n",
    "\n",
    "    train_df = df[0:450]\n",
    "    test_df = df.drop(train_df.index)\n",
    "\n",
    "    # x - news title, y - class\n",
    "    x_train = train_df[1]\n",
    "    y_train = train_df[0]\n",
    "    x_test = test_df[1]\n",
    "    y_test = test_df[0]\n",
    "\n",
    "    # Process vocabulary\n",
    "    vocab_processor = learn.preprocessing.VocabularyProcessor(MAX_DOCUMENT_LENGTH)\n",
    "    x_train = np.array(list(vocab_processor.fit_transform(x_train)))\n",
    "    x_test = np.array(list(vocab_processor.transform(x_test)))\n",
    "\n",
    "    n_words = len(vocab_processor.vocabulary_)\n",
    "    print('Total words: %d' % n_words)\n",
    "  \n",
    "    # Build model\n",
    "    classifier = learn.Estimator(\n",
    "        model_fn=generate_cnn_model(N_CLASSES, n_words))\n",
    "\n",
    "    # Train and predict\n",
    "    classifier.fit(x_train, y_train, steps=STEPS)\n",
    "\n",
    "    # Evaluate model\n",
    "    y_predicted = [\n",
    "        p['class'] for p in classifier.predict(x_test, as_iterable=True)\n",
    "    ]\n",
    "    print(y_predicted)\n",
    "\n",
    "    score = metrics.accuracy_score(y_test, y_predicted)\n",
    "    print('Accuracy: {0:f}'.format(score))\n",
    "\n",
    "if __name__ == '__main__':\n",
    "    tf.app.run(main=main)\n",
    "\n"
   ]
  },
  {
   "cell_type": "code",
   "execution_count": null,
   "metadata": {
    "collapsed": true
   },
   "outputs": [],
   "source": []
  },
  {
   "cell_type": "code",
   "execution_count": null,
   "metadata": {
    "collapsed": true
   },
   "outputs": [],
   "source": []
  }
 ],
 "metadata": {
  "kernelspec": {
   "display_name": "Python 3",
   "language": "python",
   "name": "python3"
  },
  "language_info": {
   "codemirror_mode": {
    "name": "ipython",
    "version": 3
   },
   "file_extension": ".py",
   "mimetype": "text/x-python",
   "name": "python",
   "nbconvert_exporter": "python",
   "pygments_lexer": "ipython3",
   "version": "3.6.3"
  }
 },
 "nbformat": 4,
 "nbformat_minor": 2
}
